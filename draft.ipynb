{
 "cells": [
  {
   "cell_type": "code",
   "execution_count": 62,
   "metadata": {},
   "outputs": [],
   "source": [
    "import requests\n",
    "from bs4 import BeautifulSoup\n",
    "import pandas as pd\n",
    "import numpy as np\n",
    "import time\n",
    "import ssl\n",
    "ssl._create_default_https_context = ssl._create_unverified_context"
   ]
  },
  {
   "cell_type": "code",
   "execution_count": 31,
   "metadata": {},
   "outputs": [],
   "source": [
    "url = \"https://www.basketball-reference.com/awards/all_rookie.html\"\n",
    "response = requests.get(url)\n",
    "soup = BeautifulSoup(response.content, \"html.parser\")\n",
    "\n",
    "table_body = soup.find(\"tbody\")\n",
    "rows = table_body.find_all(\"tr\", class_=False)"
   ]
  },
  {
   "cell_type": "code",
   "execution_count": 32,
   "metadata": {},
   "outputs": [],
   "source": [
    "data = []\n",
    "for row in rows:\n",
    "    year = row.find(\"a\").text\n",
    "    if int(year[:4]) >= 2010: # filter to years since Kalipari has been head coach\n",
    "        team = row.find('td', class_='left', attrs={'data-stat': 'all_team'}).text[:1]\n",
    "        players = row.select('a[href^=\"/players\"]')\n",
    "        for player in players:\n",
    "            # get url to player's page\n",
    "            player_url = \"https://www.basketball-reference.com/\" + player.get('href')\n",
    "            # get career advanced stats\n",
    "            player_response = requests.get(player_url)\n",
    "            player_soup = BeautifulSoup(player_response.content, \"html.parser\")\n",
    "            advanced_table = player_soup.find(\"table\", class_=\"stats_table\", id=\"advanced\")\n",
    "            foot = advanced_table.find(\"tfoot\")\n",
    "            career_stats = []\n",
    "            for td in foot.find_all(\"td\"):\n",
    "                career_stats.append(td.text)\n",
    "\n",
    "            ranking_metrics = [career_stats[6], career_stats[22], career_stats[26], career_stats[27]]\n",
    "\n",
    "            athlete = [year, player.text, team]\n",
    "            athlete.extend(ranking_metrics)\n",
    "            data.append(athlete)\n",
    "\n",
    "            time.sleep(3)"
   ]
  },
  {
   "cell_type": "code",
   "execution_count": 65,
   "metadata": {},
   "outputs": [
    {
     "data": {
      "text/plain": [
       "[2011, 2012, 2013, 2014, 2015, 2016, 2017, 2018, 2019, 2020, 2021]"
      ]
     },
     "execution_count": 65,
     "metadata": {},
     "output_type": "execute_result"
    }
   ],
   "source": [
    "draft_years = list(np.arange(2011, 2022))"
   ]
  },
  {
   "cell_type": "code",
   "execution_count": 66,
   "metadata": {},
   "outputs": [],
   "source": [
    "dfs = []\n",
    "\n",
    "draft_years = list(np.arange(2011, 2022))\n",
    "\n",
    "for year in draft_years:\n",
    "    url = \"https://www.basketball-reference.com/draft/NBA_\" + str(year) + \".html\"\n",
    "    response = requests.get(url)\n",
    "    soup = BeautifulSoup(response.content, \"html.parser\")\n",
    "\n",
    "    table_body = soup.find(\"tbody\")\n",
    "    rows = table_body.find_all(\"tr\", class_=False)\n",
    "\n",
    "    def parse_html(row, data_stat):\n",
    "        return row.find(\"td\", attrs={\"data-stat\": data_stat}).text\n",
    "\n",
    "    data = []\n",
    "    for row in rows:\n",
    "        # get name, pick, college team, ws/48, bpm, vorp\n",
    "        name = row.select_one('a[href^=\"/players/\"]').text\n",
    "        pick = row.find('th', class_=\"right\", attrs={\"data-stat\": \"ranker\"}).text\n",
    "        college = parse_html(row, \"college_name\")\n",
    "        ws_per_48 = parse_html(row, \"ws_per_48\")\n",
    "        bpm = parse_html(row, \"bpm\")\n",
    "        vorp = parse_html(row, \"vorp\")\n",
    "\n",
    "        data.append([year, name, pick, college, ws_per_48, bpm, vorp])\n",
    "    \n",
    "    df = pd.DataFrame(data, columns=[\"year\", \"name\", \"pick\", \"college\", \"ws_48\", \"bpm\", \"vorp\"])\n",
    "    dfs.append(df)"
   ]
  },
  {
   "cell_type": "code",
   "execution_count": 67,
   "metadata": {},
   "outputs": [],
   "source": [
    "df = pd.concat(dfs)\n",
    "df.to_csv(\"draft.csv\", index=False)"
   ]
  },
  {
   "cell_type": "code",
   "execution_count": null,
   "metadata": {},
   "outputs": [],
   "source": []
  }
 ],
 "metadata": {
  "kernelspec": {
   "display_name": "Python 3",
   "language": "python",
   "name": "python3"
  },
  "language_info": {
   "codemirror_mode": {
    "name": "ipython",
    "version": 3
   },
   "file_extension": ".py",
   "mimetype": "text/x-python",
   "name": "python",
   "nbconvert_exporter": "python",
   "pygments_lexer": "ipython3",
   "version": "3.11.2"
  },
  "orig_nbformat": 4
 },
 "nbformat": 4,
 "nbformat_minor": 2
}
