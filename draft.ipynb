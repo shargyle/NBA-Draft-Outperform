{
 "cells": [
  {
   "cell_type": "code",
   "execution_count": 1,
   "metadata": {},
   "outputs": [],
   "source": [
    "import requests\n",
    "from bs4 import BeautifulSoup\n",
    "import pandas as pd\n",
    "import numpy as np\n",
    "import time\n",
    "import ssl\n",
    "ssl._create_default_https_context = ssl._create_unverified_context"
   ]
  },
  {
   "cell_type": "code",
   "execution_count": 6,
   "metadata": {},
   "outputs": [],
   "source": [
    "dfs = []\n",
    "\n",
    "draft_years = list(np.arange(2011, 2022))\n",
    "\n",
    "for year in draft_years:\n",
    "    url = \"https://www.basketball-reference.com/draft/NBA_\" + str(year) + \".html\"\n",
    "    response = requests.get(url)\n",
    "    soup = BeautifulSoup(response.content, \"html.parser\")\n",
    "\n",
    "    table_body = soup.find(\"tbody\")\n",
    "    rows = table_body.find_all(\"tr\", class_=False)\n",
    "\n",
    "    def parse_html(row, data_stat):\n",
    "        return row.find(\"td\", attrs={\"data-stat\": data_stat}).text\n",
    "\n",
    "    data = []\n",
    "    for row in rows:\n",
    "        # get name, pick, college team, ws/48, bpm, vorp\n",
    "        name = row.select_one('a[href^=\"/players/\"]').text\n",
    "        pick = row.find('th', class_=\"right\", attrs={\"data-stat\": \"ranker\"}).text\n",
    "        college = parse_html(row, \"college_name\")\n",
    "        seasons = parse_html(row, \"seasons\")\n",
    "        g = parse_html(row, \"g\")\n",
    "        pts = parse_html(row, \"pts\")\n",
    "        trb = parse_html(row, \"trb\")\n",
    "        ast = parse_html(row, \"ast\")\n",
    "        ws_per_48 = parse_html(row, \"ws_per_48\")\n",
    "        bpm = parse_html(row, \"bpm\")\n",
    "        vorp = parse_html(row, \"vorp\")\n",
    "\n",
    "        data.append([year, name, pick, college, seasons, g, pts, trb, ast, ws_per_48, bpm, vorp])\n",
    "    \n",
    "    df = pd.DataFrame(data, columns=[\"year\", \"name\", \"pick\", \"college\", \"seasons\", \"g\", \"pts\", \"trb\", \"ast\", \"ws_48\", \"bpm\", \"vorp\"])\n",
    "    dfs.append(df)"
   ]
  },
  {
   "cell_type": "code",
   "execution_count": 7,
   "metadata": {},
   "outputs": [],
   "source": [
    "df = pd.concat(dfs)\n",
    "df.to_csv(\"draft.csv\", index=False)"
   ]
  },
  {
   "cell_type": "code",
   "execution_count": null,
   "metadata": {},
   "outputs": [],
   "source": []
  }
 ],
 "metadata": {
  "kernelspec": {
   "display_name": "Python 3",
   "language": "python",
   "name": "python3"
  },
  "language_info": {
   "codemirror_mode": {
    "name": "ipython",
    "version": 3
   },
   "file_extension": ".py",
   "mimetype": "text/x-python",
   "name": "python",
   "nbconvert_exporter": "python",
   "pygments_lexer": "ipython3",
   "version": "3.11.2"
  },
  "orig_nbformat": 4
 },
 "nbformat": 4,
 "nbformat_minor": 2
}
