{
 "cells": [
  {
   "cell_type": "code",
   "execution_count": 16,
   "metadata": {},
   "outputs": [],
   "source": [
    "import pandas as pd\n",
    "import numpy as np"
   ]
  },
  {
   "cell_type": "code",
   "execution_count": 103,
   "metadata": {},
   "outputs": [],
   "source": [
    "df = pd.read_csv(\"draft.csv\")"
   ]
  },
  {
   "cell_type": "code",
   "execution_count": null,
   "metadata": {},
   "outputs": [],
   "source": [
    "df[\"g_per_season\"] = df[\"g\"] / df[\"seasons\"]\n",
    "df = df[df['g_per_season'] > 52]\n",
    "df[\"per\"] = (df[\"pts\"] + df[\"trb\"] + df[\"ast\"]) / df[\"g\"]\n",
    "metrics = ['per', 'bpm', 'vorp', 'ws_48']\n",
    "\n",
    "for metric in metrics:\n",
    "    df[metric + '_rank'] = df.groupby('year')[metric].rank(ascending=False)\n",
    "    \n",
    "df[\"overall_rank\"] = (df[\"per_rank\"] + df[\"bpm_rank\"] + df[\"vorp_rank\"] + df[\"ws_48_rank\"]) / 4\n",
    "df[\"redraft_pick\"] = df.groupby('year')[\"overall_rank\"].rank(ascending=True)\n",
    "df[\"draft_diff\"] = df[\"pick\"] - df[\"redraft_pick\"]"
   ]
  },
  {
   "cell_type": "code",
   "execution_count": null,
   "metadata": {},
   "outputs": [],
   "source": [
    "value_counts = df['college'].value_counts()\n",
    "df_filtered = df[df['college'].isin(value_counts[value_counts > 5].index)]"
   ]
  },
  {
   "cell_type": "code",
   "execution_count": 133,
   "metadata": {},
   "outputs": [
    {
     "data": {
      "text/plain": [
       "college\n",
       "Villanova    15.333333\n",
       "UCLA         13.166667\n",
       "Duke          4.807692\n",
       "Michigan      4.333333\n",
       "Kentucky      3.368421\n",
       "Texas         2.916667\n",
       "UNC           0.500000\n",
       "Kansas       -4.833333\n",
       "Arizona      -6.416667\n",
       "Name: draft_diff, dtype: float64"
      ]
     },
     "execution_count": 133,
     "metadata": {},
     "output_type": "execute_result"
    }
   ],
   "source": [
    "df_filtered.groupby(\"college\")[\"draft_diff\"].mean().sort_values(ascending=False)"
   ]
  }
 ],
 "metadata": {
  "kernelspec": {
   "display_name": "Python 3",
   "language": "python",
   "name": "python3"
  },
  "language_info": {
   "codemirror_mode": {
    "name": "ipython",
    "version": 3
   },
   "file_extension": ".py",
   "mimetype": "text/x-python",
   "name": "python",
   "nbconvert_exporter": "python",
   "pygments_lexer": "ipython3",
   "version": "3.11.2"
  },
  "orig_nbformat": 4
 },
 "nbformat": 4,
 "nbformat_minor": 2
}
